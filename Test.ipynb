{
 "cells": [
  {
   "cell_type": "code",
   "execution_count": 1,
   "metadata": {},
   "outputs": [],
   "source": [
    "import requests\n",
    "import numpy as np"
   ]
  },
  {
   "cell_type": "code",
   "execution_count": 2,
   "metadata": {},
   "outputs": [],
   "source": [
    "#get grade ids\n",
    "url_1 = \"https://www.xueersi.com/mall/home/sift?device=1&provinceId=100&gradeId=2&switch_grade=2&switch_subject=-1\"\n",
    "grades = requests.get(url_1)"
   ]
  },
  {
   "cell_type": "code",
   "execution_count": 3,
   "metadata": {},
   "outputs": [],
   "source": [
    "if(grades.status_code == 200):\n",
    "    grades_json = grades.json()\n",
    "else:\n",
    "    print(f\"Invalid response in extracting grade IDs.\")"
   ]
  },
  {
   "cell_type": "code",
   "execution_count": 4,
   "metadata": {},
   "outputs": [],
   "source": [
    "grade_ids = [grade['id'] for grade in grades_json['grades']]"
   ]
  },
  {
   "cell_type": "code",
   "execution_count": null,
   "metadata": {},
   "outputs": [],
   "source": []
  },
  {
   "cell_type": "code",
   "execution_count": 6,
   "metadata": {},
   "outputs": [],
   "source": [
    "url_list = []\n",
    "for grade_id in grade_ids:\n",
    "    switch_grade = grade_id\n",
    "    url_2 = f\"https://www.xueersi.com/mall/home/courses?device=1&provinceId=100&gradeId={grade_id}&subjectId=0&switch_grade={grade_id}&switch_subject=-1\"\n",
    "    response = requests.get(url_2)\n",
    "    if(response.status_code != 200):\n",
    "        print(f\"Invalid response for {url_2}.\\n\")\n",
    "    response_json = response.json()\n",
    "    sync_class_json = [sync_class for sync_class in response_json if sync_class['title'] == \"同步课\"]\n",
    "    if len(sync_class_json) != 0:\n",
    "        sync_class = sync_class_json[0]\n",
    "    else:\n",
    "        print(f\"No data of synchronous class for {grade_id}.\")\n",
    "    for course in sync_class['courseList']:\n",
    "        subjectId = course['subjectId']['subjectId']\n",
    "        switch_subject = course['subjectId']['similarId']\n",
    "        courseType = course['courseType']['courseType']\n",
    "        no_of_courses = course['courseNum']\n",
    "        no_of_pages = np.math.ceil(no_of_courses/9)\n",
    "        for page in range(1, no_of_pages+1):\n",
    "            url_3 = f\"https://mall.xueersi.com/courses/list/1/1/100/2/{courseType}?switch_grade={switch_grade}&switch_subject={switch_subject}&curpage={page}&subjectId={subjectId}\"\n",
    "            course_response = requests.get(url_3)\n",
    "            if(course_response.status_code != 200):\n",
    "                print(f\"Invalid course response for {url_3}\")\n",
    "            course_json = course_response.json()\n",
    "            for course_detail in course_json:\n",
    "                idx = course_detail['id']\n",
    "                class_id = course_detail['class']['id']\n",
    "                url_4 = f\"https://mall.xueersi.com/course/{idx}/{class_id}?switch_grade={switch_grade}&switch_subject={switch_subject}\"\n",
    "                url_list.append(url_4)\n",
    "                final_resp = requests.get(url_4)\n",
    "                if(final_resp.status_code != 200):\n",
    "                    print(f\"Invalid Final API response for url {url_4}\")\n",
    "                #final_json = final_resp.json()"
   ]
  },
  {
   "cell_type": "code",
   "execution_count": 7,
   "metadata": {},
   "outputs": [
    {
     "data": {
      "text/plain": [
       "2016"
      ]
     },
     "execution_count": 7,
     "metadata": {},
     "output_type": "execute_result"
    }
   ],
   "source": [
    "len(url_list)"
   ]
  },
  {
   "cell_type": "code",
   "execution_count": null,
   "metadata": {},
   "outputs": [],
   "source": [
    "#courses?devices\n",
    "u = f\"https://www.xueersi.com/mall/home/courses?device=1&provinceId=100&gradeId={2}&subjectId=0&switch_grade={2}&switch_subject=-1\"\n",
    "u = url_list_grade[0]\n",
    "#synchronous class\n",
    "response = requests.get(u)\n",
    "response_json = response.json()"
   ]
  },
  {
   "cell_type": "code",
   "execution_count": null,
   "metadata": {},
   "outputs": [],
   "source": [
    "sync_class_json = [sync_class for sync_class in response_json if sync_class['title'] == \"同步课\"]\n",
    "sync_class_json[0]"
   ]
  },
  {
   "cell_type": "code",
   "execution_count": null,
   "metadata": {},
   "outputs": [],
   "source": [
    "switch_grade = grade_ids[0]\n",
    "\n",
    "for course in sync_class_json[0]['courseList']:\n",
    "    subjectId = course['subjectId']['subjectId']\n",
    "    switch_subject = course['subjectId']['similarId']\n",
    "    courseType = course['courseType']['courseType']\n",
    "    no_of_courses = course['courseNum']\n",
    "    no_of_pages = np.math.ceil(no_of_courses/9)\n",
    "    for page in range(1,no_of_pages+1):\n",
    "        url = f\"https://mall.xueersi.com/courses/list/1/1/100/2/{courseType}?switch_grade={switch_grade}&switch_subject={switch_subject}&curpage={page}&subjectId={subjectId}\"\n",
    "        #course_response = requests.get(url)\n",
    "        #course_json = course_response.json()\n",
    "        #print(url)\n",
    "        \n",
    "subjectId = sync_class_json[0]['courseList'][0]['subjectId']['subjectId']\n",
    "switch_subject = sync_class_json[0]['courseList'][0]['subjectId']['similarId']\n",
    "no_of_courses = sync_class_json[0]['courseList'][0]['courseNum']\n",
    "# -23 courseType\n",
    "courseType = sync_class_json[0]['courseList'][0]['courseType']['courseType']\n"
   ]
  },
  {
   "cell_type": "code",
   "execution_count": null,
   "metadata": {},
   "outputs": [],
   "source": []
  },
  {
   "cell_type": "code",
   "execution_count": null,
   "metadata": {},
   "outputs": [],
   "source": [
    "#u3 = f\"https://mall.xueersi.com/courses/list/1/1/100/2/{-23}?switch_grade={2}&switch_subject={2}&curpage={1}&subjectId={-836}\"\n",
    "\n",
    "#without current page\n",
    "#u3 = https://mall.xueersi.com/courses/sift/1/1/100/2/-23?switch_grade=2&switch_subject=2&subjectId=-836\n",
    "\n",
    "u3 = f\"https://mall.xueersi.com/courses/list/1/1/100/2/{courseType}?switch_grade={switch_grade}&switch_subject={switch_subject}&curpage={100}&subjectId={subjectId}\"\n",
    "course_response = requests.get(u3)\n",
    "course_json = course_response.json()\n",
    "#idx = course_json[0]['id']\n",
    "#class_id = course_json[0]['class']['id']\n",
    "course_json"
   ]
  },
  {
   "cell_type": "code",
   "execution_count": null,
   "metadata": {},
   "outputs": [],
   "source": [
    "u4 = f\"https://mall.xueersi.com/course/{idx}/{class_id}?switch_grade={switch_grade}&switch_subject={switch_subject}\""
   ]
  },
  {
   "cell_type": "code",
   "execution_count": null,
   "metadata": {},
   "outputs": [],
   "source": [
    "final_resp = requests.get(u4)\n",
    "final_json = final_resp.json()\n",
    "final_json.keys()"
   ]
  },
  {
   "cell_type": "code",
   "execution_count": null,
   "metadata": {},
   "outputs": [],
   "source": []
  },
  {
   "cell_type": "code",
   "execution_count": null,
   "metadata": {},
   "outputs": [],
   "source": []
  },
  {
   "cell_type": "code",
   "execution_count": null,
   "metadata": {},
   "outputs": [],
   "source": [
    "#special class\n",
    "special_class_json = [spcl_class for spcl_class in response_json if spcl_class['title'] == '专题课']\n",
    "if len(special_class_json) != 0:\n",
    "    print(\"Speciall class available\")\n",
    "else:\n",
    "    print(\"No Special class\")"
   ]
  },
  {
   "cell_type": "code",
   "execution_count": null,
   "metadata": {},
   "outputs": [],
   "source": []
  },
  {
   "cell_type": "code",
   "execution_count": null,
   "metadata": {},
   "outputs": [],
   "source": []
  }
 ],
 "metadata": {
  "kernelspec": {
   "display_name": "Python 3",
   "language": "python",
   "name": "python3"
  },
  "language_info": {
   "codemirror_mode": {
    "name": "ipython",
    "version": 3
   },
   "file_extension": ".py",
   "mimetype": "text/x-python",
   "name": "python",
   "nbconvert_exporter": "python",
   "pygments_lexer": "ipython3",
   "version": "3.8.5"
  }
 },
 "nbformat": 4,
 "nbformat_minor": 4
}
